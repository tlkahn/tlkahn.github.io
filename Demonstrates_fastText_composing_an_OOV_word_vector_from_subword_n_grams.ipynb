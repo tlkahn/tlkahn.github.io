{
  "nbformat": 4,
  "nbformat_minor": 0,
  "metadata": {
    "colab": {
      "provenance": [],
      "authorship_tag": "ABX9TyM3LE3FvPw6p8RgE1fOehFE",
      "include_colab_link": true
    },
    "kernelspec": {
      "name": "python3",
      "display_name": "Python 3"
    },
    "language_info": {
      "name": "python"
    }
  },
  "cells": [
    {
      "cell_type": "markdown",
      "metadata": {
        "id": "view-in-github",
        "colab_type": "text"
      },
      "source": [
        "<a href=\"https://colab.research.google.com/github/tlkahn/tlkahn.github.io/blob/main/Demonstrates_fastText_composing_an_OOV_word_vector_from_subword_n_grams.ipynb\" target=\"_parent\"><img src=\"https://colab.research.google.com/assets/colab-badge.svg\" alt=\"Open In Colab\"/></a>"
      ]
    },
    {
      "cell_type": "code",
      "execution_count": 1,
      "metadata": {
        "colab": {
          "base_uri": "https://localhost:8080/"
        },
        "id": "vDSbcNPWfQ73",
        "outputId": "e5d4fd2b-9238-4cfe-db50-a6b262bf0ca2"
      },
      "outputs": [
        {
          "output_type": "stream",
          "name": "stdout",
          "text": [
            "Collecting fasttext\n",
            "  Downloading fasttext-0.9.3.tar.gz (73 kB)\n",
            "\u001b[?25l     \u001b[90m━━━━━━━━━━━━━━━━━━━━━━━━━━━━━━━━━━━━━━━━\u001b[0m \u001b[32m0.0/73.4 kB\u001b[0m \u001b[31m?\u001b[0m eta \u001b[36m-:--:--\u001b[0m\r\u001b[2K     \u001b[90m━━━━━━━━━━━━━━━━━━━━━━━━━━━━━━━━━━━━━━━━\u001b[0m \u001b[32m73.4/73.4 kB\u001b[0m \u001b[31m2.3 MB/s\u001b[0m eta \u001b[36m0:00:00\u001b[0m\n",
            "\u001b[?25h  Installing build dependencies ... \u001b[?25l\u001b[?25hdone\n",
            "  Getting requirements to build wheel ... \u001b[?25l\u001b[?25hdone\n",
            "  Preparing metadata (pyproject.toml) ... \u001b[?25l\u001b[?25hdone\n",
            "Collecting pybind11>=2.2 (from fasttext)\n",
            "  Using cached pybind11-3.0.1-py3-none-any.whl.metadata (10.0 kB)\n",
            "Requirement already satisfied: setuptools>=0.7.0 in /usr/local/lib/python3.12/dist-packages (from fasttext) (75.2.0)\n",
            "Requirement already satisfied: numpy in /usr/local/lib/python3.12/dist-packages (from fasttext) (2.0.2)\n",
            "Using cached pybind11-3.0.1-py3-none-any.whl (293 kB)\n",
            "Building wheels for collected packages: fasttext\n",
            "  Building wheel for fasttext (pyproject.toml) ... \u001b[?25l\u001b[?25hdone\n",
            "  Created wheel for fasttext: filename=fasttext-0.9.3-cp312-cp312-linux_x86_64.whl size=4498213 sha256=6570009c83f97f4c441d1cc86f13717f0beacb02475eea5567d8af49c8cb232b\n",
            "  Stored in directory: /root/.cache/pip/wheels/20/27/95/a7baf1b435f1cbde017cabdf1e9688526d2b0e929255a359c6\n",
            "Successfully built fasttext\n",
            "Installing collected packages: pybind11, fasttext\n",
            "Successfully installed fasttext-0.9.3 pybind11-3.0.1\n"
          ]
        }
      ],
      "source": [
        "!pip install fasttext"
      ]
    },
    {
      "cell_type": "code",
      "source": [
        "!pip install fasttext-wheel"
      ],
      "metadata": {
        "colab": {
          "base_uri": "https://localhost:8080/"
        },
        "id": "DsDcicMhfU6M",
        "outputId": "c74e8d16-6b2b-4f49-c936-16ced773c2a1"
      },
      "execution_count": 2,
      "outputs": [
        {
          "output_type": "stream",
          "name": "stdout",
          "text": [
            "Collecting fasttext-wheel\n",
            "  Downloading fasttext_wheel-0.9.2-cp312-cp312-manylinux_2_17_x86_64.manylinux2014_x86_64.whl.metadata (16 kB)\n",
            "Requirement already satisfied: pybind11>=2.2 in /usr/local/lib/python3.12/dist-packages (from fasttext-wheel) (3.0.1)\n",
            "Requirement already satisfied: setuptools>=0.7.0 in /usr/local/lib/python3.12/dist-packages (from fasttext-wheel) (75.2.0)\n",
            "Requirement already satisfied: numpy in /usr/local/lib/python3.12/dist-packages (from fasttext-wheel) (2.0.2)\n",
            "Downloading fasttext_wheel-0.9.2-cp312-cp312-manylinux_2_17_x86_64.manylinux2014_x86_64.whl (4.6 MB)\n",
            "\u001b[2K   \u001b[90m━━━━━━━━━━━━━━━━━━━━━━━━━━━━━━━━━━━━━━━━\u001b[0m \u001b[32m4.6/4.6 MB\u001b[0m \u001b[31m26.7 MB/s\u001b[0m eta \u001b[36m0:00:00\u001b[0m\n",
            "\u001b[?25hInstalling collected packages: fasttext-wheel\n",
            "Successfully installed fasttext-wheel-0.9.2\n"
          ]
        }
      ]
    },
    {
      "cell_type": "code",
      "source": [
        "import os, tempfile, sys, subprocess\n",
        "import fasttext\n",
        "import numpy as np"
      ],
      "metadata": {
        "id": "P_NGXmgZfsjR"
      },
      "execution_count": 18,
      "outputs": []
    },
    {
      "cell_type": "code",
      "source": [
        "corpus = \"\"\"buddha dharma sangha lotus sutra mantra tantra vinaya abhidharma\n",
        "the path to awakening includes compassion wisdom and meditation\n",
        "we learn representations for words and subwords with fasttext\n",
        "\"\"\"\n",
        "with tempfile.NamedTemporaryFile(mode=\"w\", delete=False, encoding=\"utf-8\") as f:\n",
        "    f.write(corpus)\n",
        "    corpus_path = f.name\n"
      ],
      "metadata": {
        "id": "DhW5ObGMfvAo"
      },
      "execution_count": 9,
      "outputs": []
    },
    {
      "cell_type": "code",
      "source": [
        "# Train a small fastText model with subwords\n",
        "model = fasttext.train_unsupervised(\n",
        "    corpus_path,\n",
        "    model=\"skipgram\",\n",
        "    dim=50,\n",
        "    epoch=20,\n",
        "    minn=3,\n",
        "    maxn=6,\n",
        "    lr=0.05,\n",
        "    thread=1,\n",
        "    minCount=1,  # Add this line\n",
        ")\n",
        "\n"
      ],
      "metadata": {
        "id": "Uaj76sZwf0rA"
      },
      "execution_count": 11,
      "outputs": []
    },
    {
      "cell_type": "code",
      "source": [
        "# Choose an out-of-vocabulary word (not in the tiny corpus)\n",
        "word = \"bodhisattvahood\"\n",
        "\n",
        "# Check OOV status\n",
        "in_vocab = word in set(model.get_words())\n",
        "print(f\"OOV: {not in_vocab}\")\n"
      ],
      "metadata": {
        "colab": {
          "base_uri": "https://localhost:8080/"
        },
        "id": "owzE9sfNf2AX",
        "outputId": "eeaf817a-7fd8-47ed-ba83-7351c54d2298"
      },
      "execution_count": 12,
      "outputs": [
        {
          "output_type": "stream",
          "name": "stdout",
          "text": [
            "OOV: True\n"
          ]
        }
      ]
    },
    {
      "cell_type": "code",
      "source": [
        "v_fasttext = model.get_word_vector(word)"
      ],
      "metadata": {
        "id": "KgAHhc6VgdLp"
      },
      "execution_count": 14,
      "outputs": []
    },
    {
      "cell_type": "code",
      "source": [
        "v_fasttext.shape"
      ],
      "metadata": {
        "colab": {
          "base_uri": "https://localhost:8080/"
        },
        "id": "ZTaw-kuQglmj",
        "outputId": "97477b1f-1d04-42ba-91de-8a013c36b7eb"
      },
      "execution_count": 16,
      "outputs": [
        {
          "output_type": "execute_result",
          "data": {
            "text/plain": [
              "(50,)"
            ]
          },
          "metadata": {},
          "execution_count": 16
        }
      ]
    },
    {
      "cell_type": "code",
      "source": [
        "subwords, ids = model.get_subwords(word)  # n-gram strings and their input IDs\n",
        "vectors = [model.get_input_vector(i) for i in ids]  # input embeddings for each n-gram\n",
        "v_sum = np.sum(vectors, axis=0)\n",
        "v_avg = v_sum / max(len(vectors), 1)\n"
      ],
      "metadata": {
        "id": "_qK9apYrge9g"
      },
      "execution_count": 19,
      "outputs": []
    },
    {
      "cell_type": "code",
      "source": [
        "subwords[:10]"
      ],
      "metadata": {
        "colab": {
          "base_uri": "https://localhost:8080/"
        },
        "id": "hYayaK2_g0qn",
        "outputId": "502c15e7-0893-4617-a010-e971b302bf44"
      },
      "execution_count": 23,
      "outputs": [
        {
          "output_type": "execute_result",
          "data": {
            "text/plain": [
              "['<bo',\n",
              " '<bod',\n",
              " '<bodh',\n",
              " '<bodhi',\n",
              " 'bod',\n",
              " 'bodh',\n",
              " 'bodhi',\n",
              " 'bodhis',\n",
              " 'odh',\n",
              " 'odhi']"
            ]
          },
          "metadata": {},
          "execution_count": 23
        }
      ]
    },
    {
      "cell_type": "code",
      "source": [
        "def dist(a, b):\n",
        "    return float(np.linalg.norm(a - b))\n"
      ],
      "metadata": {
        "id": "6cDZ-pDRgrSf"
      },
      "execution_count": 20,
      "outputs": []
    },
    {
      "cell_type": "code",
      "source": [
        "print(f\"num_subwords: {len(ids)}\")\n",
        "print(f\"||fastText - sum||: {dist(v_fasttext, v_sum):.6f}\")\n",
        "print(f\"||fastText - avg||: {dist(v_fasttext, v_avg):.6f}\")\n"
      ],
      "metadata": {
        "colab": {
          "base_uri": "https://localhost:8080/"
        },
        "id": "D5gZaxyKgyV3",
        "outputId": "da7602ef-c675-482d-e2b0-6bd22a3cbb79"
      },
      "execution_count": 21,
      "outputs": [
        {
          "output_type": "stream",
          "name": "stdout",
          "text": [
            "num_subwords: 54\n",
            "||fastText - sum||: 0.236811\n",
            "||fastText - avg||: 0.000000\n"
          ]
        }
      ]
    },
    {
      "cell_type": "code",
      "source": [],
      "metadata": {
        "id": "n6zrMqf6hBnU"
      },
      "execution_count": null,
      "outputs": []
    }
  ]
}